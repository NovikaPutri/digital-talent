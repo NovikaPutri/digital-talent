{
 "cells": [
  {
   "cell_type": "markdown",
   "metadata": {},
   "source": [
    "# Body Mass Index (BMI)"
   ]
  },
  {
   "cell_type": "code",
   "execution_count": 18,
   "metadata": {},
   "outputs": [
    {
     "name": "stdout",
     "output_type": "stream",
     "text": [
      "Berat Badan Anda Saat ini Adalah        : 50 Kg\n",
      "Tinggi Badan Anda Saat ini Adalah       : 155 Cm\n",
      "Hasil BMI (Body Mass Index) Anda Adalah : 20.811654526534856\n",
      "Dan Hasil Kategori BMI Anda Adalah      : Normal\n"
     ]
    }
   ],
   "source": [
    "BB  = 50\n",
    "TB  = 155\n",
    "\n",
    "####################\n",
    "T   = TB * 0.01 \n",
    "BMI = BB / T ** 2   \n",
    "###################\n",
    "\n",
    "print (\"Berat Badan Anda Saat ini Adalah        :\" , BB , \"Kg\")\n",
    "print (\"Tinggi Badan Anda Saat ini Adalah       :\" , TB , \"Cm\")\n",
    "print (\"Hasil BMI (Body Mass Index) Anda Adalah :\" , BMI)\n",
    "\n",
    "if BMI < 15 :\n",
    "    print (\"Dan Hasil Kategori BMI Anda Adalah      : Very Severely Underweight\")\n",
    "elif BMI >= 15 and BMI < 16 :\n",
    "    print (\"Dan Hasil Kategori BMI Anda Adalah      : Severely Underweight\")\n",
    "elif BMI >= 16 and BMI < 18.5 :\n",
    "    print (\"Dan Hasil Kategori BMI Anda Adalah      : Underweight\")\n",
    "elif BMI >= 18.5 and BMI < 25 :\n",
    "    print (\"Dan Hasil Kategori BMI Anda Adalah      : Normal\")\n",
    "elif BMI >= 25 and BMI < 30 :\n",
    "    print (\"Dan Hasil Kategori BMI Anda Adalah      : Overweight\")\n",
    "elif BMI >= 30 and BMI < 35 :\n",
    "    print (\"Dan Hasil Kategori BMI Anda Adalah      : Moderately Obese\")\n",
    "elif BMI >= 35 and BMI < 40 :\n",
    "    print (\"Dan Hasil Kategori BMI Anda Adalah      : Severely Obese\")\n",
    "elif BMI > 40 :\n",
    "    print (\"Dan Hasil Kategori BMI Anda Adalah      : Very Severely Obese\")"
   ]
  },
  {
   "cell_type": "code",
   "execution_count": null,
   "metadata": {},
   "outputs": [],
   "source": []
  }
 ],
 "metadata": {
  "kernelspec": {
   "display_name": "Python 3",
   "language": "python",
   "name": "python3"
  },
  "language_info": {
   "codemirror_mode": {
    "name": "ipython",
    "version": 3
   },
   "file_extension": ".py",
   "mimetype": "text/x-python",
   "name": "python",
   "nbconvert_exporter": "python",
   "pygments_lexer": "ipython3",
   "version": "3.7.0"
  }
 },
 "nbformat": 4,
 "nbformat_minor": 2
}
